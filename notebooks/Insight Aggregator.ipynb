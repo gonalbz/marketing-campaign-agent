{
 "cells": [
  {
   "cell_type": "code",
   "execution_count": 11,
   "id": "db8feb70",
   "metadata": {},
   "outputs": [
    {
     "name": "stdout",
     "output_type": "stream",
     "text": [
      "Collecting docx2pdf\n",
      "  Downloading docx2pdf-0.1.8-py3-none-any.whl.metadata (3.3 kB)\n",
      "Requirement already satisfied: pywin32>=227 in c:\\users\\sherryshen\\anaconda3\\lib\\site-packages (from docx2pdf) (305.1)\n",
      "Requirement already satisfied: tqdm>=4.41.0 in c:\\users\\sherryshen\\anaconda3\\lib\\site-packages (from docx2pdf) (4.64.1)\n",
      "Requirement already satisfied: colorama in c:\\users\\sherryshen\\anaconda3\\lib\\site-packages (from tqdm>=4.41.0->docx2pdf) (0.4.6)\n",
      "Downloading docx2pdf-0.1.8-py3-none-any.whl (6.7 kB)\n",
      "Installing collected packages: docx2pdf\n",
      "Successfully installed docx2pdf-0.1.8\n"
     ]
    }
   ],
   "source": [
    "# !pip install python-dotenv\n",
    "# !pip install langgraph langchain openai\n",
    "# !pip install python-docx\n",
    "#!pip install docx2pdf"
   ]
  },
  {
   "cell_type": "code",
   "execution_count": 6,
   "id": "cdeb8090",
   "metadata": {},
   "outputs": [
    {
     "name": "stdout",
     "output_type": "stream",
     "text": [
      "content='Hello there! How can I help you today?' additional_kwargs={} response_metadata={'prompt_feedback': {'block_reason': 0, 'safety_ratings': []}, 'finish_reason': 'STOP', 'model_name': 'gemini-2.0-flash', 'safety_ratings': []} id='run--2a748f0f-9528-4410-a7ec-5165842a78b4-0' usage_metadata={'input_tokens': 4, 'output_tokens': 11, 'total_tokens': 15, 'input_token_details': {'cache_read': 0}}\n"
     ]
    }
   ],
   "source": [
    "from langchain.chat_models import init_chat_model\n",
    "from dotenv import load_dotenv\n",
    "\n",
    "load_dotenv()  # loads your .env file\n",
    "llm = init_chat_model('gemini-2.0-flash', model_provider='google_genai', temperature=0)\n",
    "response = llm.invoke(\"Hello, world!\")\n",
    "print(response)\n"
   ]
  },
  {
   "cell_type": "code",
   "execution_count": 4,
   "id": "8f632c6e",
   "metadata": {},
   "outputs": [],
   "source": [
    "web_summary = [\n",
    "    \"Target is promoting bundle offers in Northeast U.S.\",\n",
    "    \"Amazon is running 15% discounts on school supplies nationwide.\",\n",
    "    \"Back-to-school themed influencer campaigns are trending on TikTok.\"\n",
    "]"
   ]
  },
  {
   "cell_type": "code",
   "execution_count": 5,
   "id": "bbbf5f3b",
   "metadata": {},
   "outputs": [],
   "source": [
    "csv_summary = [\n",
    "    \"Lunchbox sales up 12% in Southeast; eco-friendly items doubled.\",\n",
    "    \"School clothing sales down 5% in West due to heatwave.\",\n",
    "    \"High demand for character-themed backpacks in Midwest.\"\n",
    "]"
   ]
  },
  {
   "cell_type": "code",
   "execution_count": 7,
   "id": "c9898c6e",
   "metadata": {},
   "outputs": [
    {
     "name": "stderr",
     "output_type": "stream",
     "text": [
      "C:\\Users\\ChristopherEdwards\\AppData\\Local\\Temp\\ipykernel_37588\\3901024060.py:21: LangChainDeprecationWarning: The method `BaseChatModel.__call__` was deprecated in langchain-core 0.1.7 and will be removed in 1.0. Use :meth:`~invoke` instead.\n",
      "  response = llm(messages)\n"
     ]
    },
    {
     "name": "stdout",
     "output_type": "stream",
     "text": [
      "## Back-to-School Campaign Performance: Summary Report\n",
      "\n",
      "**Date:** October 26, 2023\n",
      "\n",
      "**1. Executive Summary:**\n",
      "\n",
      "This report analyzes recent web insights and sales data related to the back-to-school season. Key findings indicate regional variations in product demand and the impact of competitor promotions and social media trends. While overall performance is positive in some regions, challenges exist in others. This report recommends targeted actions to capitalize on emerging opportunities and mitigate potential losses.\n",
      "\n",
      "**2. Key Insights:**\n",
      "\n",
      "*   **Regional Disparities:** Significant regional differences exist in product performance. The Southeast shows strong growth in lunchbox sales, particularly for eco-friendly options. Conversely, the West experienced a decline in school clothing sales, likely due to the heatwave. The Midwest demonstrates high demand for character-themed backpacks.\n",
      "*   **Competitive Pressure:** Amazon's nationwide 15% discount on school supplies poses a significant competitive threat, potentially impacting sales across all regions. Target's bundle offers in the Northeast may be driving localized sales but require further investigation to assess overall impact.\n",
      "*   **Trend Influence:** Back-to-school themed influencer campaigns on TikTok are gaining traction, suggesting a potential avenue for reaching younger demographics and driving product awareness.\n",
      "*   **Eco-Conscious Consumer:** The doubling of eco-friendly lunchbox sales in the Southeast highlights a growing consumer preference for sustainable products.\n",
      "*   **Weather Impact:** The heatwave in the West negatively impacted school clothing sales, demonstrating the influence of external factors on consumer behavior.\n",
      "\n",
      "**3. Recommended Actions:**\n",
      "\n",
      "*   **Targeted Promotions:**\n",
      "    *   **West:** Implement weather-appropriate promotions (e.g., lightweight clothing, hydration products) to counteract the impact of the heatwave. Consider offering discounts on fans or air conditioning units in conjunction with school supplies.\n",
      "    *   **Southeast:** Capitalize on the demand for eco-friendly lunchboxes by expanding the product line and highlighting sustainability features in marketing materials.\n",
      "    *   **Midwest:** Ensure sufficient inventory of character-themed backpacks to meet high demand. Consider exclusive partnerships with popular characters to further drive sales.\n",
      "    *   **Northeast:** Analyze the effectiveness of Target's bundle offers and consider implementing similar strategies in other regions.\n",
      "*   **Competitive Response:**\n",
      "    *   **Nationwide:** Monitor Amazon's school supply discount closely and consider implementing price matching or value-added promotions (e.g., free shipping, bonus items) to remain competitive.\n",
      "*   **Leverage Social Media:**\n",
      "    *   **Nationwide:** Partner with relevant TikTok influencers to promote key products and drive brand awareness. Focus on creating engaging content that resonates with the target audience.\n",
      "*   **Inventory Management:**\n",
      "    *   **All Regions:** Optimize inventory levels based on regional demand and sales trends. Ensure sufficient stock of high-demand items and reduce inventory of slow-moving products.\n",
      "*   **Data Monitoring:**\n",
      "    *   **Ongoing:** Continuously monitor web analytics and sales data to identify emerging trends and adjust marketing strategies accordingly. Track the performance of implemented recommendations to assess their effectiveness.\n"
     ]
    }
   ],
   "source": [
    "from langchain.schema import HumanMessage\n",
    "\n",
    "\n",
    "def generate_campaign_report(web_summaries, csv_summaries, topic):\n",
    "    prompt = f\"\"\"\n",
    "You're a marketing analyst. Create a one-page summary report combining web insights and sales data for a {topic}.\n",
    "Focus on trends, regional patterns, and recommended actions.\n",
    "\n",
    "Web insights:\n",
    "{chr(10).join(f\"- {ws}\" for ws in web_summaries)}\n",
    "\n",
    "Sales data summaries:\n",
    "{chr(10).join(f\"- {cs}\" for cs in csv_summaries)}\n",
    "\n",
    "Return output as:\n",
    "1. Executive Summary\n",
    "2. Key Insights\n",
    "3. Recommended Actions\n",
    "\"\"\"\n",
    "    messages = [HumanMessage(content=prompt)]\n",
    "    response = llm(messages)\n",
    "    return response.content\n",
    "\n",
    "# 🔹 Step 1: Prompt user for campaign topic\n",
    "user_topic = input(\"Enter your campaign topic (e.g., 'Back-to-School campaign for Walmart'): \").strip()\n",
    "\n",
    "# 🔹 Step 2: Example web and CSV summaries (replace with your real data)\n",
    "# web_summary = web_summary\n",
    "# csv_summary = csv_summary\n",
    "\n",
    "# 🔹 Step 3: Generate the report using user-provided topic\n",
    "one_page_report = generate_campaign_report(web_summary, csv_summary, topic=user_topic)\n",
    "\n",
    "# 🔹 Step 4: Print or save the report\n",
    "print(one_page_report)\n"
   ]
  },
  {
   "cell_type": "code",
   "execution_count": 8,
   "id": "64a4c535",
   "metadata": {},
   "outputs": [
    {
     "name": "stdout",
     "output_type": "stream",
     "text": [
      "✅ Word document saved to: .docx\n"
     ]
    }
   ],
   "source": [
    "from docx import Document\n",
    "from docx.shared import Pt\n",
    "import re\n",
    "\n",
    "# Function to sanitize filename\n",
    "def sanitize_filename(name):\n",
    "    # Remove characters not allowed in filenames\n",
    "    return re.sub(r'[\\\\/*?:\"<>|]', \"\", name).strip().replace(\" \", \"_\")\n",
    "\n",
    "# Function to create Word document\n",
    "def create_word_doc(content, user_topic):\n",
    "    safe_topic = sanitize_filename(user_topic)\n",
    "    filename = f\"{safe_topic}.docx\"\n",
    "\n",
    "    doc = Document()\n",
    "    doc.add_heading(user_topic, 0)\n",
    "\n",
    "    sections = content.strip().split('\\n\\n')\n",
    "    for section in sections:\n",
    "        lines = section.strip().split('\\n')\n",
    "        header = lines[0].strip()\n",
    "        body = lines[1:]\n",
    "        doc.add_heading(header, level=1)\n",
    "        for line in body:\n",
    "            if line.strip().startswith(\"-\"):\n",
    "                para = doc.add_paragraph(line.strip(), style='List Bullet')\n",
    "            else:\n",
    "                para = doc.add_paragraph(line.strip())\n",
    "            para.style.font.size = Pt(11)\n",
    "\n",
    "    doc.save(filename)\n",
    "    print(f\"✅ Word document saved to: {filename}\")\n",
    "\n",
    "# Example usage\n",
    "create_word_doc(one_page_report, user_topic)"
   ]
  },
  {
   "cell_type": "code",
   "execution_count": null,
   "id": "dd452074",
   "metadata": {},
   "outputs": [],
   "source": []
  }
 ],
 "metadata": {
  "kernelspec": {
   "display_name": "venv",
   "language": "python",
   "name": "python3"
  },
  "language_info": {
   "codemirror_mode": {
    "name": "ipython",
    "version": 3
   },
   "file_extension": ".py",
   "mimetype": "text/x-python",
   "name": "python",
   "nbconvert_exporter": "python",
   "pygments_lexer": "ipython3",
   "version": "3.13.2"
  }
 },
 "nbformat": 4,
 "nbformat_minor": 5
}
