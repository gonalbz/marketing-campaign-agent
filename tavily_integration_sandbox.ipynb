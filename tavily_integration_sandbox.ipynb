{
 "cells": [
  {
   "cell_type": "code",
   "execution_count": null,
   "id": "b9d1467d",
   "metadata": {},
   "outputs": [],
   "source": [
    "from langchain_tavily import TavilySearch\n",
    "from typing import TypedDict\n",
    "from langgraph.graph import StateGraph\n",
    "\n",
    "\n",
    "# instantiate tavily search tool\n",
    "tavily = TavilySearch(\n",
    "    max_results=3,\n",
    "    topic=\"general\"\n",
    ")\n",
    "\n",
    "class AgentState(TypedDict):\n",
    "    search_queries: list[str]\n",
    "    search_results: list[str]\n",
    "\n",
    "\n",
    "def search_executor_node(state: AgentState):\n",
    "    results = state['search_results'] or []\n",
    "    for q in state['search_queries']:\n",
    "        response = tavily.invoke({'query': q})\n",
    "        for r in response['results']:\n",
    "            results.append(r['content'])\n",
    "    return {'search_results': results} \n"
   ]
  },
  {
   "cell_type": "code",
   "execution_count": null,
   "id": "744d7d93",
   "metadata": {},
   "outputs": [],
   "source": [
    "# build simple POC agentic graph\n",
    "graph_builder = StateGraph(AgentState)\n",
    "graph_builder.add_node('search_executor', search_executor_node)\n",
    "graph_builder.set_entry_point('search_executor')\n",
    "graph = graph_builder.compile()"
   ]
  },
  {
   "cell_type": "code",
   "execution_count": null,
   "id": "6211a81c",
   "metadata": {},
   "outputs": [
    {
     "data": {
      "image/png": "[encoded data removed]",
      "text/plain": [
       "<langgraph.graph.state.CompiledStateGraph object at 0x0000019FF568CC30>"
      ]
     },
     "execution_count": 13,
     "metadata": {},
     "output_type": "execute_result"
    }
   ],
   "source": [
    "# display graph diagram\n",
    "graph"
   ]
  },
  {
   "cell_type": "code",
   "execution_count": null,
   "id": "9ddec496",
   "metadata": {},
   "outputs": [
    {
     "name": "stdout",
     "output_type": "stream",
     "text": [
      "{'search_executor': {'search_results': ['New Year\\'s Eve and New Year\\'s Day are some of the best times to buy a new or used car. These days usually still have end-of-year sales events that are supported with great financing and lease deals from automakers. Yes, these days are usually considered to be the end of the previous year for automakers and their dealerships, despite their \"new', 'Best time of the year to buy a car Best month to buy a car. In the past, December was the month with the highest discounts off MSRP, but the pandemic has upended the market and it has taken years', 'Finally, another good time to buy is at the holiday sales events automakers create to move the metal throughout the year. Usually these events are tied to significant rebates and special financing.', 'Another measure of new vehicle prices, the Consumer Price Index (CPI), highlights the recent growth in car prices compared to the rest of the 21st century. Between January 2000 and January 2021', \"Annual car sales worldwide 2010-2023, with a forecast for 2024; Monthly container freight rate index worldwide 2023-2024; Automotive manufacturers' estimated market share in the U.S. 2023\", 'Key Car Buying Statistics. The full-year 2024 forecast is 15.7 million as of Jan. 8, 2024, following the final analysis of FY2023 sales. U.S. car sales reached an estimated 15.5 million units in 2023, an 11.6% jump from 13.9 million vehicles sold in 2022.; Used car prices are expected to stabilize in 2024 after two years of decreases from record highs during the pandemic.', 'Contents. 1 Unveiling the Untapped Potential: US Automotive Industry Sales by Region. 1.1 The East Coast: A Hub of Luxury and Performance; 1.2 The Midwest: A Stronghold for American Muscle; 1.3 The West Coast: Embracing Sustainability and Innovation; 1.4 The South: A Blend of Practicality and Versatility', 'California ranked #1 in new car sales by state for 2023 delivering 1,775,916 vehicles. Texas ranked #2 with 1,522,615 new vehicles sold. California, Texas, and Florida were the only states to exceed one million new vehicle sales in 2023.', 'The most popular vehicle in the United States by far is the Ford F-150. The pick-up has held that title for more than 40 years. In thirty states, the Ford F-Series trucks are the most popular vehicle. ... Also, the most popular cars on the road are often not the most popular or most recent models. Currently, the average age of a car on the road']}}\n"
     ]
    }
   ],
   "source": [
    "# run agentic graph on sample search queries related to car purchases\n",
    "thread = {'configurable': {'thread_id': '1'}}\n",
    "for s in graph.stream({\n",
    "    'search_queries': [\n",
    "        'What is the best time of year to buy a car?',\n",
    "        'What consumers are most likely to need a new car?',\n",
    "        'What regions in the US buy the most cars?',\n",
    "    ],\n",
    "    'search_results': []\n",
    "}, thread):\n",
    "    print(s)"
   ]
  }
 ],
 "metadata": {
  "kernelspec": {
   "display_name": "venv",
   "language": "python",
   "name": "python3"
  },
  "language_info": {
   "codemirror_mode": {
    "name": "ipython",
    "version": 3
   },
   "file_extension": ".py",
   "mimetype": "text/x-python",
   "name": "python",
   "nbconvert_exporter": "python",
   "pygments_lexer": "ipython3",
   "version": "3.13.2"
  }
 },
 "nbformat": 4,
 "nbformat_minor": 5
}
